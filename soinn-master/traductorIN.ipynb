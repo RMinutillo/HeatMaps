{
 "cells": [
  {
   "cell_type": "markdown",
   "metadata": {},
   "source": [
    "PRUEBA 1"
   ]
  },
  {
   "cell_type": "code",
   "execution_count": 14,
   "metadata": {},
   "outputs": [
    {
     "name": "stdout",
     "output_type": "stream",
     "text": [
      "Say something:\n",
      "Texto reconocido: hola como estas\n",
      "Texto traducido: Hi, how are you\n"
     ]
    }
   ],
   "source": [
    "#INGRESAR AUDIO POR MIC\n",
    "import pyttsx3\n",
    "from googletrans import Translator\n",
    "import speech_recognition as sr\n",
    "\n",
    "def recognize_speech(language=\"en-US\"):\n",
    "    recognizer = sr.Recognizer()\n",
    "    with sr.Microphone() as source:\n",
    "        print(\"Say something:\")\n",
    "        audio = recognizer.listen(source)\n",
    "\n",
    "    try:\n",
    "        text = recognizer.recognize_google(audio, language=language)\n",
    "        return text\n",
    "    except sr.UnknownValueError:\n",
    "        print(\"Could not understand audio\")\n",
    "        return None\n",
    "    except sr.RequestError as e:\n",
    "        print(f\"Could not request results from Google Speech Recognition service; {e}\")\n",
    "        return None\n",
    "\n",
    "def translate_text(text, target_language=\"en\"):\n",
    "    translator = Translator()\n",
    "    translation = translator.translate(text, dest=target_language)\n",
    "    return translation.text\n",
    "\n",
    "# Ejemplo de uso\n",
    "audio_text = recognize_speech()\n",
    "\n",
    "if audio_text:\n",
    "    print(f\"Texto reconocido: {audio_text}\")\n",
    "    texto_traducido = translate_text(audio_text)\n",
    "    print(f\"Texto traducido: {texto_traducido}\")\n",
    "else:\n",
    "    print(\"No se pudo reconocer el audio.\")\n",
    "\n",
    "\n",
    "def text_to_speech(text, rate=120):  # Puedes ajustar el valor de 'rate' según tus preferencias\n",
    "    engine = pyttsx3.init()\n",
    "    engine.setProperty('rate', rate)  # Ajusta la velocidad aquí\n",
    "    engine.say(text)\n",
    "    engine.runAndWait()\n",
    "\n",
    "# leer texto traducido\n",
    "text_to_speech(texto_traducido, rate = 110)\n"
   ]
  },
  {
   "cell_type": "markdown",
   "metadata": {},
   "source": [
    "CODIGO SIN COMENTARIOS"
   ]
  },
  {
   "cell_type": "code",
   "execution_count": 21,
   "metadata": {},
   "outputs": [
    {
     "name": "stdout",
     "output_type": "stream",
     "text": [
      "Say something:\n",
      "Detected language: english\n",
      "Original text: I'm all ears\n",
      "Translated text: Soy todo oídos\n"
     ]
    },
    {
     "name": "stderr",
     "output_type": "stream",
     "text": [
      "Exception ignored in: <function BSTR.__del__ at 0x000001A2DF5C4900>\n",
      "Traceback (most recent call last):\n",
      "  File \"c:\\Users\\ramir\\AppData\\Local\\Programs\\Python\\Python312\\Lib\\site-packages\\comtypes\\__init__.py\", line 699, in __del__\n",
      "    def __del__(self, _free=windll.oleaut32.SysFreeString):\n",
      "\n",
      "KeyboardInterrupt: \n"
     ]
    }
   ],
   "source": [
    "import pyttsx3\n",
    "from googletrans import Translator, LANGUAGES\n",
    "import speech_recognition as sr\n",
    "from langdetect import detect\n",
    "\n",
    "\n",
    "# Inicializar el reconocedor de voz y el traductor\n",
    "def recognize_and_translate():\n",
    "    recognizer = sr.Recognizer()\n",
    "    translator = Translator()\n",
    "\n",
    "    with sr.Microphone() as source:\n",
    "        print(\"Say something:\")\n",
    "        audio = recognizer.listen(source)\n",
    "\n",
    "    try:\n",
    "        text = recognizer.recognize_google(audio, language=\"auto\")\n",
    "        detected_language = detect(text)\n",
    "        \n",
    "        print(f\"Detected language: {LANGUAGES[detected_language]}\")\n",
    "        \n",
    "        print(f\"Original text: {text}\")\n",
    "\n",
    "        target_language = \"en\" if detected_language == \"es\" else \"es\"\n",
    "        translation = translator.translate(text, dest=target_language)\n",
    "        translated_text = translation.text\n",
    "\n",
    "        print(f\"Translated text: {translated_text}\")\n",
    "\n",
    "        # Leer el texto traducido\n",
    "        text_to_speech(translated_text, rate=110)\n",
    "\n",
    "    except sr.UnknownValueError:\n",
    "        print(\"Could not understand audio\")\n",
    "    except sr.RequestError as e:\n",
    "        print(f\"Could not request results from Google Speech Recognition service; {e}\")\n",
    "    except Exception as e:\n",
    "        print(f\"Error: {e}\")\n",
    "\n",
    "# Inicializar el motor de texto a voz\n",
    "def text_to_speech(text, rate=120):\n",
    "    engine = pyttsx3.init()\n",
    "    engine.setProperty('rate', rate)\n",
    "    # Decir el texto y esperar a que termine\n",
    "    engine.say(text)\n",
    "    engine.runAndWait()\n",
    "\n",
    "# Llamada a la función\n",
    "recognize_and_translate()\n"
   ]
  },
  {
   "cell_type": "markdown",
   "metadata": {},
   "source": [
    "CODIGO COMENTADO\n"
   ]
  },
  {
   "cell_type": "code",
   "execution_count": null,
   "metadata": {},
   "outputs": [],
   "source": [
    "import pyttsx3\n",
    "from googletrans import Translator, LANGUAGES\n",
    "import speech_recognition as sr\n",
    "from langdetect import detect"
   ]
  },
  {
   "cell_type": "code",
   "execution_count": null,
   "metadata": {},
   "outputs": [],
   "source": [
    "# Codigo comentado\n",
    "\n",
    "def recognize_and_translate():\n",
    "    # Inicializar el reconocedor de voz y el traductor\n",
    "    recognizer = sr.Recognizer()\n",
    "    translator = Translator()\n",
    "\n",
    "    # Utilizar el micrófono como fuente de audio\n",
    "    with sr.Microphone() as source:\n",
    "        print(\"Say something:\")\n",
    "        audio = recognizer.listen(source)\n",
    "\n",
    "    try:\n",
    "        # Reconocer el texto en el audio utilizando Google Speech Recognition\n",
    "        text = recognizer.recognize_google(audio, language=\"auto\")\n",
    "\n",
    "        # Detectar automáticamente el idioma del texto usando langdetect\n",
    "        detected_language = detect(text)\n",
    "        \n",
    "        # Imprimir el idioma detectado y el texto original\n",
    "        print(f\"Detected language: {LANGUAGES[detected_language]}\")\n",
    "        print(f\"Original text: {text}\")\n",
    "\n",
    "        # Establecer el idioma de destino opuesto al detectado\n",
    "        target_language = \"en\" if detected_language == \"es\" else \"es\"\n",
    "\n",
    "        # Traducir el texto al idioma de destino\n",
    "        translation = translator.translate(text, dest=target_language)\n",
    "        translated_text = translation.text\n",
    "\n",
    "        # Imprimir el texto traducido\n",
    "        print(f\"Translated text: {translated_text}\")\n",
    "\n",
    "        # Leer el texto traducido en voz alta\n",
    "        text_to_speech(translated_text, rate=110)\n",
    "\n",
    "    except sr.UnknownValueError:\n",
    "        print(\"Could not understand audio\")\n",
    "    except sr.RequestError as e:\n",
    "        print(f\"Could not request results from Google Speech Recognition service; {e}\")\n",
    "    except Exception as e:\n",
    "        print(f\"Error: {e}\")\n",
    "\n",
    "def text_to_speech(text, rate=120):\n",
    "    # Inicializar el motor de texto a voz\n",
    "    engine = pyttsx3.init()\n",
    "    engine.setProperty('rate', rate)\n",
    "    \n",
    "    # Decir el texto y esperar a que termine\n",
    "    engine.say(text)\n",
    "    engine.runAndWait()\n",
    "\n",
    "# Llamada a la función principal\n",
    "recognize_and_translate()\n"
   ]
  },
  {
   "cell_type": "markdown",
   "metadata": {},
   "source": [
    "TEST GOOGLE CLOUD ON DEMAND"
   ]
  },
  {
   "cell_type": "code",
   "execution_count": null,
   "metadata": {},
   "outputs": [],
   "source": [
    "from google.cloud import speech_v1p1beta1 as speech\n",
    "from google.cloud import translate_v2 as translate\n",
    "import pyttsx3\n",
    "import keyboard"
   ]
  },
  {
   "cell_type": "code",
   "execution_count": null,
   "metadata": {},
   "outputs": [],
   "source": [
    "# Configura el cliente de Google Cloud Speech\n",
    "client_speech = speech.SpeechClient()\n",
    "\n",
    "# Configura el cliente de Google Cloud Translation\n",
    "client_translate = translate.Client()\n",
    "\n",
    "def recognize_and_translate():\n",
    "    # Realiza la transcripción del audio en tiempo real\n",
    "    streaming_config = speech.RecognitionConfig(\n",
    "        encoding=speech.RecognitionConfig.AudioEncoding.LINEAR16,\n",
    "        sample_rate_hertz=16000,\n",
    "        language_code=\"en-US\",\n",
    "    )\n",
    "\n",
    "    streaming_request = speech.StreamingRecognizeRequest(config=streaming_config, single_utterance=True)\n",
    "\n",
    "    with speech.StreamingMicrophone() as stream:\n",
    "        requests = (speech.StreamingRecognizeRequest(audio_content=content) for content in stream.generator())\n",
    "        responses = client_speech.streaming_recognize(streaming_request, requests)\n",
    "\n",
    "        for response in responses:\n",
    "            for result in response.results:\n",
    "                # Obtén el texto reconocido\n",
    "                text = result.alternatives[0].transcript\n",
    "\n",
    "                # Detecta automáticamente el idioma del texto\n",
    "                detected_language = client_translate.detect_language(text)[\"language\"]\n",
    "\n",
    "                # Establece el idioma de destino opuesto al detectado\n",
    "                target_language = \"en\" if detected_language == \"es\" else \"es\"\n",
    "\n",
    "                # Traduce el texto\n",
    "                translation = client_translate.translate(text, target_language=target_language)\n",
    "                translated_text = translation[\"translatedText\"]  # Accede a la propiedad \"translatedText\"\n",
    "\n",
    "                # Imprime el texto traducido\n",
    "                print(f\"Translated text: {translated_text}\")\n",
    "\n",
    "                # Lee el texto traducido en voz alta\n",
    "                text_to_speech(translated_text, rate=110)\n",
    "\n",
    "def text_to_speech(text, rate=120):\n",
    "    # Inicializa el motor de texto a voz\n",
    "    engine = pyttsx3.init()\n",
    "    engine.setProperty('rate', rate)\n",
    "\n",
    "    # Dice el texto y espera a que termine\n",
    "    engine.say(text)\n",
    "    engine.runAndWait()\n",
    "\n",
    "# Escucha las teclas para activar o desactivar la traducción\n",
    "keyboard.add_hotkey('ctrl+shift+t', recognize_and_translate)\n",
    "\n",
    "# Mantén el programa en ejecución\n",
    "keyboard.wait()\n"
   ]
  }
 ],
 "metadata": {
  "kernelspec": {
   "display_name": "Python 3",
   "language": "python",
   "name": "python3"
  },
  "language_info": {
   "codemirror_mode": {
    "name": "ipython",
    "version": 3
   },
   "file_extension": ".py",
   "mimetype": "text/x-python",
   "name": "python",
   "nbconvert_exporter": "python",
   "pygments_lexer": "ipython3",
   "version": "3.12.0"
  }
 },
 "nbformat": 4,
 "nbformat_minor": 2
}

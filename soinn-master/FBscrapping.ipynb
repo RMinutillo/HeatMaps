{
 "cells": [
  {
   "cell_type": "code",
   "execution_count": 2,
   "metadata": {},
   "outputs": [],
   "source": [
    "import requests\n",
    "from bs4 import BeautifulSoup\n"
   ]
  },
  {
   "cell_type": "code",
   "execution_count": 4,
   "metadata": {},
   "outputs": [],
   "source": [
    "# URL del sitio web que deseas analizar\n",
    "url = 'https://www.facebook.com/domii.plez'\n",
    "\n",
    "# Realizar la solicitud HTTP\n",
    "response = requests.get(url)\n",
    "\n",
    "# Verificar si la solicitud fue exitosa (código de estado 200)\n",
    "if response.status_code == 200:\n",
    "    # Parsear el contenido HTML con BeautifulSoup\n",
    "    soup = BeautifulSoup(response.text, 'html.parser')\n",
    "\n",
    "    # Encuentra la información que necesitas utilizando las funciones de BeautifulSoup\n",
    "    # Por ejemplo, supongamos que estás buscando todas las etiquetas <p> en el sitio web\n",
    "    parrafos = soup.find_all('p')\n",
    "\n",
    "    # Iterar sobre los resultados y mostrar el contenido\n",
    "    for parrafo in parrafos:\n",
    "        print(parrafo.text)\n",
    "else:\n",
    "    print(f'Error al obtener la página. Código de estado: {response.status_code}')\n"
   ]
  },
  {
   "cell_type": "code",
   "execution_count": null,
   "metadata": {},
   "outputs": [],
   "source": [
    "# class == x1s85apg son publicaciones en fb\n",
    "\n",
    "#1\n",
    "'''<div class=\"x1s85apg\" data-0=\"0\" data-1=\"1\" data-2=\"2\" data-3=\"3\" data-4=\"4\" data-5=\"5\" data-6=\"6\" data-7=\"7\" data-8=\"8\" data-9=\"9\" data-10=\"10\" data-11=\"11\" data-12=\"12\" data-13=\"13\" data-14=\"14\" data-15=\"15\" data-16=\"16\" data-17=\"17\" data-18=\"18\" data-19=\"19\"><blockquote class=\"xckqwgs x26u7qi x7g060r x1gslohp x11i5rnm xieb3on x1mh8g0r x1pi30zi x1swvt13\"><span class=\"x193iq5w xeuugli x13faqbe x1vvkbs x1xmvt09 x1lliihq x1s928wv xhkezso x1gmr53x x1cpjm7i x1fgarty x1943h6x xudqn12 x3x7a5m x6prxxf xvq8zen xo1l8bm xzsf02u\" dir=\"auto\"><span class=\"x193iq5w xeuugli x13faqbe x1vvkbs x1xmvt09 x6prxxf xvq8zen xo1l8bm xi81zsa\">Facebook</span></span></blockquote><div class=\"x1i10hfl xjbqb8w x6umtig x1b1mbwd xaqea5y xav7gou x9f619 x1ypdohk xt0psk2 xe8uvvx xdj266r x11i5rnm xat24cr x1mh8g0r xexx8yu x4uap5 x18d9i69 xkhd6sd x16tdsg8 x1hl2dhg xggy1nq x1a2a7pz x1heor9g xt0b8zv\" role=\"button\" tabindex=\"0\"></div></div>'''\n"
   ]
  },
  {
   "cell_type": "code",
   "execution_count": 1,
   "metadata": {},
   "outputs": [
    {
     "name": "stdout",
     "output_type": "stream",
     "text": [
      "https://www.facebook.com/\n",
      "https://www.facebook.com/recover/initiate?lwv=110&ars=royal_blue_bar\n",
      "/r.php?locale=es_LA\n",
      "https://www.facebook.com/recover/initiate?lwv=110&ars=royal_blue_bar\n",
      "/r.php?r=101\n",
      "https://www.facebook.com/RamaGranatee\n",
      "https://pt-br.facebook.com/RamaGranatee\n",
      "https://fr-fr.facebook.com/RamaGranatee\n",
      "https://it-it.facebook.com/RamaGranatee\n",
      "https://de-de.facebook.com/RamaGranatee\n",
      "https://ar-ar.facebook.com/RamaGranatee\n",
      "https://zh-cn.facebook.com/RamaGranatee\n",
      "https://hi-in.facebook.com/RamaGranatee\n",
      "https://ja-jp.facebook.com/RamaGranatee\n",
      "#\n",
      "/reg/\n",
      "/login/\n",
      "https://messenger.com/\n",
      "/lite/\n",
      "https://www.facebook.com/watch/\n",
      "/places/\n",
      "/games/\n",
      "/marketplace/\n",
      "https://pay.facebook.com/\n",
      "https://www.meta.com/\n",
      "https://www.meta.com/quest/\n",
      "https://l.facebook.com/l.php?u=https%3A%2F%2Fwww.instagram.com%2F&h=AT1Rxpf7yGF8OucDI0yD6oCt5oOeAfzzs5CAjiWumcy-ivfoAqCs72v8ZxuEzzCqholdSojB16p5lQU1nBeS5x57oxVmXi_DnlhEG96G_EXmZ0HW6-PePUITVqywC2wk5EcaVwBbq03xIDib\n",
      "https://www.threads.net/\n",
      "/fundraisers/\n",
      "/biz/directory/\n",
      "/votinginformationcenter/?entry_point=c2l0ZQ%3D%3D\n",
      "/privacy/policy/?entry_point=facebook_page_footer\n",
      "/privacy/center/?entry_point=facebook_page_footer\n",
      "/groups/discover/\n",
      "https://about.meta.com/\n",
      "/ad_campaign/landing.php?placement=pflo&campaign_id=402047449186&nav_source=unknown&extra_1=auto\n",
      "/pages/create/?ref_type=site_footer\n",
      "https://developers.facebook.com/?ref=pf\n",
      "/careers/?ref=pf\n",
      "/policies/cookies/\n",
      "https://www.facebook.com/help/568137493302217\n",
      "/policies?ref=pf\n",
      "/help/?ref=pf\n",
      "help/637205020878504\n",
      "/settings\n",
      "/allactivity?privacy_source=activity_log_top_menu\n"
     ]
    }
   ],
   "source": [
    "import requests\n",
    "from bs4 import BeautifulSoup\n",
    "\n",
    "# URL de la página web que deseas analizar\n",
    "url = 'https://www.facebook.com/RamaGranatee/'\n",
    "\n",
    "# Realizar la solicitud HTTP\n",
    "response = requests.get(url)\n",
    "\n",
    "# Verificar si la solicitud fue exitosa (código de estado 200)\n",
    "if response.status_code == 200:\n",
    "    # Parsear el contenido HTML con BeautifulSoup\n",
    "    soup = BeautifulSoup(response.text, 'html.parser')\n",
    "\n",
    "    # Encontrar todas las etiquetas 'a' y obtener el valor del atributo 'href'\n",
    "    enlaces = soup.find_all('a')\n",
    "    \n",
    "    # Imprimir los enlaces encontrados\n",
    "    for enlace in enlaces:\n",
    "        href = enlace.get('href')\n",
    "        if href:\n",
    "            print(href)\n",
    "else:\n",
    "    print(f'Error al obtener la página. Código de estado: {response.status_code}')\n",
    "\n",
    "#https://www.facebook.com/groups/124701468168717/?multi_permalinks=1363549080950610&hoisted_section_header_type=recently_seen"
   ]
  }
 ],
 "metadata": {
  "kernelspec": {
   "display_name": "Python 3",
   "language": "python",
   "name": "python3"
  },
  "language_info": {
   "codemirror_mode": {
    "name": "ipython",
    "version": 3
   },
   "file_extension": ".py",
   "mimetype": "text/x-python",
   "name": "python",
   "nbconvert_exporter": "python",
   "pygments_lexer": "ipython3",
   "version": "3.12.0"
  }
 },
 "nbformat": 4,
 "nbformat_minor": 2
}

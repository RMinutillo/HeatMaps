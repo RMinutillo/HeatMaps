{
 "cells": [
  {
   "cell_type": "code",
   "execution_count": 9,
   "metadata": {
    "collapsed": false
   },
   "outputs": [
    {
     "name": "stdout",
     "output_type": "stream",
     "text": [
      "Requirement already satisfied: google in c:\\users\\ramir\\appdata\\local\\programs\\python\\python312\\lib\\site-packages (3.0.0)Note: you may need to restart the kernel to use updated packages.\n",
      "\n",
      "Requirement already satisfied: beautifulsoup4 in c:\\users\\ramir\\appdata\\local\\programs\\python\\python312\\lib\\site-packages (from google) (4.12.2)\n",
      "Requirement already satisfied: soupsieve>1.2 in c:\\users\\ramir\\appdata\\local\\programs\\python\\python312\\lib\\site-packages (from beautifulsoup4->google) (2.5)\n",
      "[[ 4.04646733e-02  1.02694016e-03]\n",
      " [-1.90625290e-02 -1.96691817e-01]\n",
      " [ 3.60518772e+00 -3.16397981e-01]\n",
      " ...\n",
      " [-2.20777455e+00 -8.46841949e-01]\n",
      " [ 4.16409781e-01  5.36773518e-01]\n",
      " [ 2.40197885e+00  7.99264064e-01]]\n"
     ]
    },
    {
     "data": {
      "text/plain": [
       "numpy.ndarray"
      ]
     },
     "execution_count": 9,
     "metadata": {},
     "output_type": "execute_result"
    }
   ],
   "source": [
    "%pip install google\n",
    "import numpy as np\n",
    "import matplotlib.pyplot as plt\n",
    "from numpy.random import normal\n",
    "from soinn import Soinn\n",
    "import pandas as pd\n",
    "\n",
    "# Especificar la ruta al archivo en Google Drive\n",
    "ruta_archivo = 'data_ig.csv'\n",
    "\n",
    "# Leer el archivo CSV\n",
    "datos_rutas = pd.read_csv(ruta_archivo, encoding='latin-1')"
   ]
  },
  {
   "cell_type": "code",
   "execution_count": 28,
   "metadata": {},
   "outputs": [],
   "source": [
    "x1 = datos_rutas[['lat', 'lng']].head(100000).values"
   ]
  },
  {
   "cell_type": "code",
   "execution_count": 31,
   "metadata": {},
   "outputs": [
    {
     "data": {
      "image/png": "[encoded data removed]",
      "text/plain": [
       "<Figure size 640x480 with 1 Axes>"
      ]
     },
     "metadata": {},
     "output_type": "display_data"
    }
   ],
   "source": [
    "# initialize SOINN\n",
    "s = Soinn(delete_node_period=300, init_node_num=10)\n",
    "s.fit(x1)\n",
    "\n",
    "# show SOINN's state\n",
    "plt.plot(X[:, 0], X[:, 1], 'cx')\n",
    "nodes = s.nodes\n",
    "for k in s.adjacent_mat.keys():\n",
    "    plt.plot(nodes[k, 0], nodes[k, 1], 'k')\n",
    "plt.plot(nodes[:, 0], nodes[:, 1], 'ro')\n",
    "plt.grid(True)"
   ]
  }
 ],
 "metadata": {
  "kernelspec": {
   "display_name": "Python 3",
   "language": "python",
   "name": "python3"
  },
  "language_info": {
   "codemirror_mode": {
    "name": "ipython",
    "version": 3
   },
   "file_extension": ".py",
   "mimetype": "text/x-python",
   "name": "python",
   "nbconvert_exporter": "python",
   "pygments_lexer": "ipython3",
   "version": "3.12.0"
  }
 },
 "nbformat": 4,
 "nbformat_minor": 0
}

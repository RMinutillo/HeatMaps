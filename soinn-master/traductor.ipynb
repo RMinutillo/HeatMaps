{
 "cells": [
  {
   "cell_type": "code",
   "execution_count": 14,
   "metadata": {},
   "outputs": [
    {
     "name": "stdout",
     "output_type": "stream",
     "text": [
      "Texto traducido: Quiero que para Navidad seas tú\n"
     ]
    }
   ],
   "source": [
    "# librarie translator\n",
    "from translate import Translator\n",
    "\n",
    "def translate_text(text, target_language=\"es\"):\n",
    "    translator= Translator(to_lang=target_language)\n",
    "    translation = translator.translate(text)\n",
    "    return translation\n",
    "\n",
    "# Ejemplo de uso\n",
    "texto_a_traducir = \"All want for christmas is you \"\n",
    "texto_traducido = translate_text(texto_a_traducir)\n",
    "\n",
    "print(f\"Texto traducido: {texto_traducido}\")\n"
   ]
  },
  {
   "cell_type": "code",
   "execution_count": 17,
   "metadata": {},
   "outputs": [
    {
     "name": "stdout",
     "output_type": "stream",
     "text": [
      "Texto traducido: Todo lo que quiero para Navidad eres tu\n"
     ]
    }
   ],
   "source": [
    "# librarie googletranslator\n",
    "from googletrans import Translator\n",
    "\n",
    "def translate_text(text, target_language=\"es\"):\n",
    "    translator = Translator()\n",
    "    translation = translator.translate(text, dest=target_language)\n",
    "    return translation.text\n",
    "\n",
    "# Ejemplo de uso\n",
    "texto_a_traducir = \"All I want for christmas is you\"\n",
    "texto_traducido = translate_text(texto_a_traducir)\n",
    "\n",
    "print(f\"Texto traducido: {texto_traducido}\")\n"
   ]
  },
  {
   "cell_type": "code",
   "execution_count": 3,
   "metadata": {},
   "outputs": [
    {
     "name": "stdout",
     "output_type": "stream",
     "text": [
      "Say something:\n",
      "Texto reconocido: como estas Tanto Tiempo\n",
      "Texto traducido: How are you so long\n"
     ]
    }
   ],
   "source": [
    "#INGRESAR AUDIO POR MIC\n",
    "import pyttsx3\n",
    "from googletrans import Translator\n",
    "import speech_recognition as sr\n",
    "\n",
    "def recognize_speech():\n",
    "    recognizer = sr.Recognizer()\n",
    "    with sr.Microphone() as source:\n",
    "        print(\"Say something:\")\n",
    "        audio = recognizer.listen(source)\n",
    "\n",
    "    try:\n",
    "        text = recognizer.recognize_google(audio)\n",
    "        return text\n",
    "    except sr.UnknownValueError:\n",
    "        print(\"Could not understand audio\")\n",
    "        return None\n",
    "    except sr.RequestError as e:\n",
    "        print(f\"Could not request results from Google Speech Recognition service; {e}\")\n",
    "        return None\n",
    "\n",
    "def translate_text(text, target_language=\"en\"):\n",
    "    translator = Translator()\n",
    "    translation = translator.translate(text, dest=target_language)\n",
    "    return translation.text\n",
    "\n",
    "# Ejemplo de uso\n",
    "audio_text = recognize_speech()\n",
    "\n",
    "if audio_text:\n",
    "    print(f\"Texto reconocido: {audio_text}\")\n",
    "    texto_traducido = translate_text(audio_text)\n",
    "    print(f\"Texto traducido: {texto_traducido}\")\n",
    "else:\n",
    "    print(\"No se pudo reconocer el audio.\")\n",
    "\n",
    "\n",
    "def text_to_speech(text, rate=150):  # Puedes ajustar el valor de 'rate' según tus preferencias\n",
    "    engine = pyttsx3.init()\n",
    "    engine.setProperty('rate', rate)  # Ajusta la velocidad aquí\n",
    "    engine.say(text)\n",
    "    engine.runAndWait()\n",
    "\n",
    "# leer texto traducido\n",
    "text_to_speech(texto_traducido, rate = 120)\n"
   ]
  },
  {
   "cell_type": "code",
   "execution_count": 1,
   "metadata": {},
   "outputs": [
    {
     "name": "stderr",
     "output_type": "stream",
     "text": [
      "c:\\Users\\ramir\\AppData\\Local\\Programs\\Python\\Python312\\Lib\\site-packages\\pydub\\utils.py:170: RuntimeWarning: Couldn't find ffmpeg or avconv - defaulting to ffmpeg, but may not work\n",
      "  warn(\"Couldn't find ffmpeg or avconv - defaulting to ffmpeg, but may not work\", RuntimeWarning)\n"
     ]
    },
    {
     "name": "stdout",
     "output_type": "stream",
     "text": [
      "Texto traducido: Hola Google Te voy a contar un poco sobre mi experiencia. He estado trabajando durante dos años y medio para el Ministerio de Salud allí, trabajo como diseñador de UX para el área de comunicación interna y recientemente el sitio web para los empleados fue Ray SimonY entré en la etapa de investigación haciendo entrevistas o algo divertido y haciendo música de lo bajo antes de trabajar aquí y trabajo como un proyecto independiente para el proyecto más importante fue suficiente para el supermercado donde están el océano\n"
     ]
    }
   ],
   "source": [
    "# traductor audios format wav\n",
    "from googletrans import Translator\n",
    "import speech_recognition as sr\n",
    "from pydub import AudioSegment\n",
    "import pyttsx3\n",
    "\n",
    "def recognize_speech_from_audio(audio_file):\n",
    "    recognizer = sr.Recognizer()\n",
    "    with sr.AudioFile(audio_file) as source:\n",
    "        audio = recognizer.record(source)\n",
    "\n",
    "    try:\n",
    "        text = recognizer.recognize_google(audio)\n",
    "        return text\n",
    "    except sr.UnknownValueError:\n",
    "        print(\"Could not understand audio\")\n",
    "        return None\n",
    "    except sr.RequestError as e:\n",
    "        print(f\"Could not request results from Google Speech Recognition service; {e}\")\n",
    "        return None\n",
    "\n",
    "def translate_text(text, target_language=\"es\"):\n",
    "    translator = Translator()\n",
    "    translation = translator.translate(text, dest=target_language)\n",
    "    return translation.text\n",
    "\n",
    "# Ejemplo de uso\n",
    "opus_audio_file_path = \"audioinglesdomiWAV.wav\"\n",
    "\n",
    "\n",
    "# Reconocimiento y traducción\n",
    "audio_text = recognize_speech_from_audio(opus_audio_file_path)\n",
    "\n",
    "if audio_text:\n",
    "    #print(f\"Texto reconocido: {audio_text}\")\n",
    "    texto_traducido = translate_text(audio_text)\n",
    "    print(f\"Texto traducido: {texto_traducido}\")\n",
    "else:\n",
    "    print(\"No se pudo reconocer el audio.\")\n",
    "\n",
    "\n",
    "def text_to_speech(text, rate=150):  # Puedes ajustar el valor de 'rate' según tus preferencias\n",
    "    engine = pyttsx3.init()\n",
    "    engine.setProperty('rate', rate)  # Ajusta la velocidad aquí\n",
    "    engine.say(text)\n",
    "    engine.runAndWait()\n",
    "\n",
    "# leer texto traducido\n",
    "text_to_speech(texto_traducido, rate = 120)\n"
   ]
  },
  {
   "cell_type": "code",
   "execution_count": 1,
   "metadata": {},
   "outputs": [
    {
     "name": "stdout",
     "output_type": "stream",
     "text": [
      "Say something:\n",
      "Texto reconocido: hola Ramiro\n",
      "Texto traducido: Hello Ramiro\n"
     ]
    }
   ],
   "source": [
    "import pyttsx3\n",
    "from googletrans import Translator\n",
    "import speech_recognition as sr\n",
    "\n",
    "def recognize_speech():\n",
    "    recognizer = sr.Recognizer()\n",
    "\n",
    "    with sr.Microphone() as source:\n",
    "        print(\"Say something:\")\n",
    "        # Añadir los parámetros timeout y phrase_time_limit al método listen\n",
    "        audio = recognizer.listen(source, timeout=5, phrase_time_limit=5)\n",
    "\n",
    "    try:\n",
    "        text = recognizer.recognize_google(audio)\n",
    "        return text\n",
    "    except sr.UnknownValueError:\n",
    "        print(\"Could not understand audio\")\n",
    "        return None\n",
    "    except sr.RequestError as e:\n",
    "        print(f\"Could not request results from Google Speech Recognition service; {e}\")\n",
    "        return None\n",
    "\n",
    "\n",
    "def translate_text(text, target_language=\"en\"):\n",
    "    translator = Translator()\n",
    "    translation = translator.translate(text, dest=target_language)\n",
    "    return translation.text\n",
    "\n",
    "# Ejemplo de uso\n",
    "audio_text = recognize_speech()\n",
    "\n",
    "if audio_text:\n",
    "    print(f\"Texto reconocido: {audio_text}\")\n",
    "    texto_traducido = translate_text(audio_text)\n",
    "    print(f\"Texto traducido: {texto_traducido}\")\n",
    "else:\n",
    "    print(\"No se pudo reconocer el audio.\")\n",
    "\n",
    "\n",
    "def text_to_speech(text, rate=150):  # Puedes ajustar el valor de 'rate' según tus preferencias\n",
    "    engine = pyttsx3.init()\n",
    "    engine.setProperty('rate', rate)  # Ajusta la velocidad aquí\n",
    "    engine.say(text)\n",
    "    engine.runAndWait()\n",
    "\n",
    "# leer texto traducido\n",
    "text_to_speech(texto_traducido, rate = 120)\n",
    "\n"
   ]
  }
 ],
 "metadata": {
  "kernelspec": {
   "display_name": "Python 3",
   "language": "python",
   "name": "python3"
  },
  "language_info": {
   "codemirror_mode": {
    "name": "ipython",
    "version": 3
   },
   "file_extension": ".py",
   "mimetype": "text/x-python",
   "name": "python",
   "nbconvert_exporter": "python",
   "pygments_lexer": "ipython3",
   "version": "3.12.0"
  }
 },
 "nbformat": 4,
 "nbformat_minor": 2
}

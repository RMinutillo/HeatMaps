{
  "nbformat": 4,
  "nbformat_minor": 0,
  "metadata": {
    "colab": {
      "provenance": [],
      "mount_file_id": "1hKJtl4cf7Z2aUk-Vow4J5Jd4lKeK7PXl",
      "authorship_tag": "ABX9TyMQ0gTq1smQv3LZ8n6xo1kR",
      "include_colab_link": true
    },
    "kernelspec": {
      "name": "python3",
      "display_name": "Python 3"
    },
    "language_info": {
      "name": "python"
    }
  },
  "cells": [
    {
      "cell_type": "markdown",
      "metadata": {
        "id": "view-in-github",
        "colab_type": "text"
      },
      "source": [
        "<a href=\"https://colab.research.google.com/github/RMinutillo/HeatMaps/blob/main/Yolov8entrenamiento.ipynb\" target=\"_parent\"><img src=\"https://colab.research.google.com/assets/colab-badge.svg\" alt=\"Open In Colab\"/></a>"
      ]
    },
    {
      "cell_type": "code",
      "source": [
        "%pip install ultralytics\n",
        "!pip install datasets"
      ],
      "metadata": {
        "id": "jW3O9F34TqXC"
      },
      "execution_count": null,
      "outputs": []
    },
    {
      "cell_type": "code",
      "execution_count": null,
      "metadata": {
        "id": "qKuE09wR1e3n",
        "colab": {
          "base_uri": "https://localhost:8080/"
        },
        "outputId": "44b7731a-0a73-442b-f0dc-08cda3c268bf"
      },
      "outputs": [
        {
          "output_type": "stream",
          "name": "stdout",
          "text": [
            "Ultralytics YOLOv8.0.229 🚀 Python-3.10.12 torch-2.1.0+cu121 CPU (Intel Xeon 2.20GHz)\n",
            "Setup complete ✅ (2 CPUs, 12.7 GB RAM, 26.7/107.7 GB disk)\n"
          ]
        }
      ],
      "source": [
        "import ultralytics\n",
        "ultralytics.checks()\n",
        "import numpy as np\n",
        "from datasets import load_dataset\n",
        "import os"
      ]
    },
    {
      "cell_type": "code",
      "source": [
        "data = load_dataset(\"keremberke/garbage-object-detection\", \"full\" , trust_remote_code=True)"
      ],
      "metadata": {
        "id": "cnWOVGWHUYDU"
      },
      "execution_count": null,
      "outputs": []
    },
    {
      "cell_type": "code",
      "source": [
        "print(data[\"train\"][0])\n",
        "print(data[\"test\"][0])\n",
        "print(data[\"validation\"][0])"
      ],
      "metadata": {
        "colab": {
          "base_uri": "https://localhost:8080/"
        },
        "id": "sX4jd8xoVsPn",
        "outputId": "4a745910-3149-4357-efa0-be6b8189e7b9"
      },
      "execution_count": null,
      "outputs": [
        {
          "output_type": "stream",
          "name": "stdout",
          "text": [
            "{'image_id': 2226, 'image': <PIL.JpegImagePlugin.JpegImageFile image mode=RGB size=416x416 at 0x7836309025F0>, 'width': 416, 'height': 416, 'objects': {'id': [16031], 'area': [44148], 'bbox': [[69.0, 129.0, 283.0, 156.0]], 'category': [2]}}\n",
            "{'image_id': 511, 'image': <PIL.JpegImagePlugin.JpegImageFile image mode=RGB size=416x416 at 0x7836309033A0>, 'width': 416, 'height': 416, 'objects': {'id': [1969], 'area': [133393], 'bbox': [[41.0, 4.0, 331.0, 403.0]], 'category': [4]}}\n",
            "{'image_id': 437, 'image': <PIL.JpegImagePlugin.JpegImageFile image mode=RGB size=416x416 at 0x78363087D630>, 'width': 416, 'height': 416, 'objects': {'id': [4090], 'area': [78183], 'bbox': [[59.0, 74.0, 288.5, 271.0]], 'category': [0]}}\n"
          ]
        }
      ]
    },
    {
      "cell_type": "code",
      "source": [
        "def coco_to_yolo(x, y, w, h, width, height):\n",
        "  return [((2*x + w)/(2*width)), ((2*y + h)/(2*height)), w/width, h/height]\n",
        "\n",
        "def preprocessing(partition:str , data: object):\n",
        "  os.makedirs(f\"datasets/images/{partition}\", exist_ok = True)\n",
        "  os.makedirs(f\"datasets/labels/{partition}\", exist_ok = True)\n",
        "\n",
        "  #data[\"train\"]\n",
        "  for i, sample in enumerate(data[partition]):\n",
        "    img = sample[\"image\"]\n",
        "    labels = sample[\"objects\"][\"category\"]\n",
        "    bboxes = sample[\"objects\"][\"bbox\"]\n",
        "    width = sample[\"width\"]\n",
        "    height = sample[\"height\"]\n",
        "\n",
        "    #preprocessing bboxes\n",
        "    items = []\n",
        "    for label, box in zip(labels, bboxes):\n",
        "      xc, yc, w, h = coco_to_yolo(box[0], box[1], box[2], box[3], width, height)\n",
        "      items.append(f\"{label} {xc} {yc} {w} {h}\")\n",
        "\n",
        "    with open(f\"datasets/labels/{partition}/{i}.txt\", \"w\") as f:\n",
        "      for item in items:\n",
        "        f.write(f\"{item}\\n\")\n",
        "\n",
        "    img.save(f\"datasets/images/{partition}/{i}.png\")\n",
        "\n",
        "\n",
        "if __name__ == \"__main__\":\n",
        "  data = load_dataset(\"keremberke/garbage-object-detection\", \"full\" , trust_remote_code=True)\n",
        "\n",
        "  preprocessing(\"train\", data)\n",
        "  preprocessing(\"test\", data)\n",
        "  preprocessing(\"validation\", data)\n",
        "\n"
      ],
      "metadata": {
        "id": "tFNrJdT-XpxW"
      },
      "execution_count": null,
      "outputs": []
    },
    {
      "cell_type": "code",
      "source": [
        "path: .\n",
        "train: images/train\n",
        "validation: images/validation\n",
        "\n"
      ],
      "metadata": {
        "id": "smjsp4c4pJvB"
      },
      "execution_count": null,
      "outputs": []
    }
  ]
}
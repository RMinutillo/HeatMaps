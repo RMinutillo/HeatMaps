{
  "nbformat": 4,
  "nbformat_minor": 0,
  "metadata": {
    "colab": {
      "provenance": []
    },
    "kernelspec": {
      "name": "python3",
      "display_name": "Python 3"
    },
    "language_info": {
      "name": "python"
    }
  },
  "cells": [
    {
      "cell_type": "code",
      "execution_count": null,
      "metadata": {
        "id": "f8nWOPBgwfO1"
      },
      "outputs": [],
      "source": [
        "!pip install rembg"
      ]
    },
    {
      "cell_type": "code",
      "source": [
        "import os\n",
        "from datetime import datetime\n",
        "from rembg import remove"
      ],
      "metadata": {
        "id": "isM3SJ6dwja5"
      },
      "execution_count": 3,
      "outputs": []
    },
    {
      "cell_type": "code",
      "source": [
        "class BackgroundRemove:\n",
        "    def __init__(self, input_folder, output_folder):\n",
        "        self.input_folder = input_folder\n",
        "        self.output_folder = output_folder\n",
        "\n",
        "    def process_image(self):\n",
        "        today = datetime.now().strftime('%Y-%m-%d %H-%M-%S')\n",
        "        processed_folder = os.path.join(self.output_folder, today)\n",
        "        os.makedirs(processed_folder, exist_ok=True)\n",
        "\n",
        "        for filename in os.listdir(self.input_folder):\n",
        "            if filename.endswith(('.png', '.jpg', 'jpeg')):\n",
        "                input_path = os.path.join(self.input_folder, filename)\n",
        "                output_path = os.path.join(processed_folder, filename)  # Definir output_path\n",
        "                self.remove_background(input_path, output_path)\n",
        "                self.move_originals(input_path, processed_folder)\n",
        "\n",
        "    def remove_background(self, input_p, output_p):\n",
        "        with open(input_p, 'rb') as inp, open(output_p, 'wb') as outp:\n",
        "            background_output = remove(inp.read())\n",
        "            outp.write(background_output)\n",
        "\n",
        "    def move_originals(self, input_p, dest_p):\n",
        "        original_folder = os.path.join(dest_p, 'originals')\n",
        "        os.makedirs(original_folder, exist_ok=True)\n",
        "\n",
        "        filename = os.path.basename(input_p)\n",
        "        new_path = os.path.join(original_folder, filename)\n",
        "        os.rename(input_p, new_path)\n",
        "\n",
        "if __name__ == '__main__':\n",
        "    input_folder = 'input'\n",
        "    output_folder = 'output'\n",
        "\n",
        "    remover = BackgroundRemove(input_folder, output_folder)\n",
        "    remover.process_image()\n",
        "\n",
        "\n",
        "\n",
        "\n",
        "\n"
      ],
      "metadata": {
        "id": "3zpfT6pDxygo",
        "colab": {
          "base_uri": "https://localhost:8080/"
        },
        "outputId": "1055eb48-db96-498b-f990-9264912ef178"
      },
      "execution_count": 6,
      "outputs": [
        {
          "output_type": "stream",
          "name": "stderr",
          "text": [
            "Downloading data from 'https://github.com/danielgatis/rembg/releases/download/v0.0.0/u2net.onnx' to file '/root/.u2net/u2net.onnx'.\n",
            "100%|███████████████████████████████████████| 176M/176M [00:00<00:00, 91.8GB/s]\n"
          ]
        }
      ]
    }
  ]
}